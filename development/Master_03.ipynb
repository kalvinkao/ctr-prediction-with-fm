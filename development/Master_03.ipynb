{
 "cells": [
  {
   "cell_type": "markdown",
   "metadata": {},
   "source": [
    "# W261 Final Project ETL for Development Sample"
   ]
  },
  {
   "cell_type": "markdown",
   "metadata": {},
   "source": [
    "## Notebook Set-Up"
   ]
  },
  {
   "cell_type": "code",
   "execution_count": 1,
   "metadata": {},
   "outputs": [],
   "source": [
    "# imports\n",
    "import time\n",
    "import numpy as np\n",
    "import pandas as pd\n",
    "from scipy.sparse import csr_matrix\n",
    "from pyspark.sql import Row\n",
    "from pyspark.ml.feature import CountVectorizer\n",
    "from pyspark.sql import DataFrame\n",
    "import matplotlib.pyplot as plt"
   ]
  },
  {
   "cell_type": "code",
   "execution_count": 2,
   "metadata": {},
   "outputs": [],
   "source": [
    "%reload_ext autoreload\n",
    "%autoreload 2"
   ]
  },
  {
   "cell_type": "code",
   "execution_count": 3,
   "metadata": {},
   "outputs": [
    {
     "data": {
      "text/plain": [
       "'/media/notebooks'"
      ]
     },
     "execution_count": 3,
     "metadata": {},
     "output_type": "execute_result"
    }
   ],
   "source": [
    "# store path to notebook\n",
    "PWD = !pwd\n",
    "PWD = PWD[0]\n",
    "PWD"
   ]
  },
  {
   "cell_type": "code",
   "execution_count": 4,
   "metadata": {},
   "outputs": [],
   "source": [
    "# start Spark Session\n",
    "from pyspark.sql import SparkSession\n",
    "app_name = \"w261FinalProject\"\n",
    "master = \"local[*]\"\n",
    "spark = SparkSession\\\n",
    "        .builder\\\n",
    "        .appName(app_name)\\\n",
    "        .master(master)\\\n",
    "        .getOrCreate()\n",
    "sc = spark.sparkContext"
   ]
  },
  {
   "cell_type": "markdown",
   "metadata": {},
   "source": [
    "__`NOTE:`__ Monitor the progress of your jobs using the Spark UI at: http://localhost:4040/jobs/"
   ]
  },
  {
   "cell_type": "markdown",
   "metadata": {},
   "source": [
    "## Pre-Processing"
   ]
  },
  {
   "cell_type": "markdown",
   "metadata": {},
   "source": [
    "### Load Data"
   ]
  },
  {
   "cell_type": "code",
   "execution_count": 5,
   "metadata": {},
   "outputs": [],
   "source": [
    "original_trainRDD = sc.textFile('data/train.txt')\n",
    "#original_testRDD = sc.textFile('data/test.txt')"
   ]
  },
  {
   "cell_type": "markdown",
   "metadata": {},
   "source": [
    "### Sample Data"
   ]
  },
  {
   "cell_type": "code",
   "execution_count": 6,
   "metadata": {},
   "outputs": [
    {
     "data": {
      "text/plain": [
       "PythonRDD[3] at RDD at PythonRDD.scala:49"
      ]
     },
     "execution_count": 6,
     "metadata": {},
     "output_type": "execute_result"
    }
   ],
   "source": [
    "#change the seed for a different sample\n",
    "largeRDD, smallTestRDD, smallTrainRDD = original_trainRDD.randomSplit([0.99, 0.005, 0.005], seed = 1)\n",
    "smallTrainRDD.cache()\n",
    "smallTestRDD.cache()"
   ]
  },
  {
   "cell_type": "code",
   "execution_count": 7,
   "metadata": {},
   "outputs": [
    {
     "name": "stdout",
     "output_type": "stream",
     "text": [
      "This sample contains 229937 rows and 40 columns\n"
     ]
    }
   ],
   "source": [
    "ncol = len(smallTrainRDD.take(1)[0].split('\\t'))\n",
    "nrow = smallTrainRDD.count()\n",
    "print(f'This sample contains {nrow} rows and {ncol} columns')"
   ]
  },
  {
   "cell_type": "code",
   "execution_count": 8,
   "metadata": {},
   "outputs": [
    {
     "name": "stdout",
     "output_type": "stream",
     "text": [
      "There is an average of 33.46 populated features per observation.\n"
     ]
    }
   ],
   "source": [
    "def avgFeatures(line):\n",
    "    \n",
    "    count = 0\n",
    "    feats = line.split('\\t')[1:]\n",
    "    \n",
    "    for feat in feats:\n",
    "        if feat != '':\n",
    "            count += 1\n",
    "\n",
    "    return count\n",
    "\n",
    "print(\"There is an average of\", str(round(smallTrainRDD.map(avgFeatures).mean(),2)), \"populated features per observation.\")"
   ]
  },
  {
   "cell_type": "markdown",
   "metadata": {},
   "source": [
    "### Transformation"
   ]
  },
  {
   "cell_type": "code",
   "execution_count": 9,
   "metadata": {},
   "outputs": [],
   "source": [
    "# function to parse raw data and tag feature values with type and feature indices\n",
    "def parseCV(line):\n",
    "    \"\"\"\n",
    "    Map record_csv_string --> (label, features)\n",
    "    \"\"\"\n",
    "\n",
    "    # start of categorical features\n",
    "    col_start = 14\n",
    "    \n",
    "    raw_values = line.split('\\t')\n",
    "    label = int(raw_values[0])\n",
    "    \n",
    "    # parse numeric features\n",
    "    numericals = []\n",
    "    for idx, value in enumerate(raw_values[1:col_start]):\n",
    "        if value == '':\n",
    "            append_val = 'NA'\n",
    "        elif value == '0':\n",
    "            append_val = '0'\n",
    "        else:\n",
    "            # continues variables\n",
    "            if idx in [0,3,6,7]:\n",
    "                if float(value)<10:\n",
    "                    append_val = '<10'\n",
    "                elif float(value)<25:\n",
    "                    append_val = '<25'\n",
    "                else:\n",
    "                    append_val = '>25'\n",
    "            elif idx in [1,2,5]:\n",
    "                if float(value)<100:\n",
    "                    append_val = '<100'\n",
    "                else:\n",
    "                    append_val = '>100'\n",
    "            elif idx==4:\n",
    "                if float(value)<10000:\n",
    "                    append_val = '<10k'\n",
    "                elif float(value)<50000:\n",
    "                    append_val = '<50k'\n",
    "                else:\n",
    "                    append_val = '>50k'\n",
    "            elif idx==8:\n",
    "                if float(value)<100:\n",
    "                    append_val = '<100'\n",
    "                elif float(value)<500:\n",
    "                    append_val = '<500'\n",
    "                else:\n",
    "                    append_val = '>500'\n",
    "            elif idx in [10,11]:\n",
    "                if float(value)<3:\n",
    "                    append_val = '<3'\n",
    "                elif float(value)<6:\n",
    "                    append_val = '<6'\n",
    "                else:\n",
    "                    append_val = '>6'\n",
    "            elif idx==12:\n",
    "                if float(value)<5:\n",
    "                    append_val = '<5'\n",
    "                elif float(value)<10:\n",
    "                    append_val = '<10'\n",
    "                elif float(value)<25:\n",
    "                    append_val = '<25'\n",
    "                else:\n",
    "                    append_val = '>25'\n",
    "            # ordinal/binary cases\n",
    "            else:\n",
    "                append_val = str(value)\n",
    "                \n",
    "        numericals.append('n' + str(idx) + '_' + append_val)\n",
    "            \n",
    "    # parse categorical features\n",
    "    categories = []\n",
    "    for idx, value in enumerate(raw_values[col_start:]):\n",
    "        if value == '':\n",
    "            categories.append('c'+ str(idx) + '_NA')\n",
    "        else:\n",
    "            categories.append('c'+ str(idx) + '_' + str(value))\n",
    "\n",
    "    return Row(label=label, raw=numericals + categories)\n",
    "\n",
    "# function to one hot encode all features using a count vectorizer\n",
    "def vectorizeCV(DF):\n",
    "    \n",
    "    vectorizer = CountVectorizer()\n",
    "    cv = CountVectorizer(minDF=.0001, inputCol=\"raw\", outputCol=\"features\")\n",
    "    \n",
    "    model = cv.fit(DF)\n",
    "    result = model.transform(DF)\n",
    "    \n",
    "    return result, model\n",
    "\n",
    "# call functions\n",
    "parsedDF = smallTrainRDD.map(parseCV).toDF().cache()\n",
    "vectorizedDF, cvModel = vectorizeCV(parsedDF)"
   ]
  },
  {
   "cell_type": "code",
   "execution_count": 10,
   "metadata": {},
   "outputs": [
    {
     "name": "stdout",
     "output_type": "stream",
     "text": [
      "+-----+--------------------+--------------------+\n",
      "|label|                 raw|            features|\n",
      "+-----+--------------------+--------------------+\n",
      "|    0|[n0_NA, n1_<100, ...|(15181,[0,1,2,3,4...|\n",
      "|    0|[n0_0, n1_>100, n...|(15181,[0,1,2,4,8...|\n",
      "|    0|[n0_NA, n1_<100, ...|(15181,[0,1,3,5,6...|\n",
      "|    0|[n0_<10, n1_<100,...|(15181,[0,3,4,5,6...|\n",
      "|    0|[n0_NA, n1_<100, ...|(15181,[1,2,5,6,1...|\n",
      "|    1|[n0_<10, n1_<100,...|(15181,[0,1,3,5,7...|\n",
      "|    1|[n0_<10, n1_<100,...|(15181,[0,1,2,3,4...|\n",
      "|    0|[n0_0, n1_<100, n...|(15181,[0,1,2,3,4...|\n",
      "|    0|[n0_<25, n1_<100,...|(15181,[0,2,3,5,6...|\n",
      "|    0|[n0_<10, n1_<100,...|(15181,[0,1,2,3,4...|\n",
      "|    0|[n0_NA, n1_<100, ...|(15181,[1,2,3,5,7...|\n",
      "|    0|[n0_<25, n1_0, n2...|(15181,[0,1,2,3,4...|\n",
      "|    0|[n0_0, n1_<100, n...|(15181,[1,2,3,5,6...|\n",
      "|    0|[n0_0, n1_0, n2_<...|(15181,[0,1,3,4,6...|\n",
      "|    0|[n0_<10, n1_<100,...|(15181,[0,1,4,5,6...|\n",
      "|    0|[n0_NA, n1_>100, ...|(15181,[0,1,2,3,4...|\n",
      "|    0|[n0_<10, n1_<100,...|(15181,[0,1,2,3,4...|\n",
      "|    0|[n0_0, n1_<100, n...|(15181,[0,2,3,4,5...|\n",
      "|    0|[n0_<10, n1_>100,...|(15181,[0,3,4,8,1...|\n",
      "|    0|[n0_0, n1_<100, n...|(15181,[0,1,2,3,4...|\n",
      "+-----+--------------------+--------------------+\n",
      "only showing top 20 rows\n",
      "\n"
     ]
    }
   ],
   "source": [
    "vectorizedDF.show(truncate=True)"
   ]
  },
  {
   "cell_type": "code",
   "execution_count": 11,
   "metadata": {},
   "outputs": [],
   "source": [
    "vectorizedRDD = vectorizedDF.select(['label', 'features']).rdd.cache()"
   ]
  },
  {
   "cell_type": "code",
   "execution_count": 12,
   "metadata": {},
   "outputs": [
    {
     "name": "stdout",
     "output_type": "stream",
     "text": [
      "Number of total expanded features: 15181\n",
      "Percent of data in the positive class: 0.2569399444195585\n"
     ]
    }
   ],
   "source": [
    "num_feats = vectorizedRDD.take(1)[0][1].size\n",
    "percent_pos = vectorizedRDD.map(lambda x: x[0]).mean()\n",
    "\n",
    "print(\"Number of total expanded features:\", num_feats)\n",
    "print(\"Percent of data in the positive class:\", percent_pos)"
   ]
  },
  {
   "cell_type": "markdown",
   "metadata": {},
   "source": [
    "## Modeling"
   ]
  },
  {
   "cell_type": "code",
   "execution_count": 13,
   "metadata": {},
   "outputs": [],
   "source": [
    "def predict_grad(pair, k_br, b_br, w_br, V_br):\n",
    "    \"\"\"\n",
    "        Compute the predicted probability AND return the gradients\n",
    "        Args:\n",
    "            pair - records are in (label, sparse feature set) format\n",
    "        Broadcast:\n",
    "            b - bias term (scalar)\n",
    "            w - linear weight vector (array)\n",
    "            k - number of factors (def=2)\n",
    "            V - factor matrix of size (d dimensions, k=2 factors)\n",
    "        Returns:\n",
    "            predRDD - pair of ([label, predicted probability], [set of weight vectors in csr_matrix format])\n",
    "    \"\"\"\n",
    "    \n",
    "    label = pair[0]\n",
    "    feats = pair[1]\n",
    "    \n",
    "    # start with linear weight dot product\n",
    "    linear_sum = np.dot(w_br.value[0][feats.indices], feats.values)\n",
    "\n",
    "    # factor matrix interaction sum\n",
    "    factor_sum = 0.0\n",
    "    lh_factor = [0.0]*k_br.value\n",
    "    rh_factor = [0.0]*k_br.value\n",
    "    \n",
    "    for f in range(0, k_br.value):\n",
    "        lh_factor[f] = np.dot(V_br.value[f][feats.indices], feats.values)  #KEY--this is used in v_grad matrix below\n",
    "        rh_factor[f] = np.dot(V_br.value[f][feats.indices]**2, feats.values**2)\n",
    "        factor_sum += (lh_factor[f]**2 - rh_factor[f])\n",
    "    factor_sum = 0.5 * factor_sum\n",
    "    \n",
    "    pre_prob = b_br.value + linear_sum + factor_sum\n",
    "    \n",
    "    prob = 1.0 / (1 + np.exp(-pre_prob))  #logit transformation\n",
    "    \n",
    "    #compute Gradients\n",
    "    b_grad = prob - label\n",
    "    \n",
    "    w_grad = csr_matrix((b_grad*feats.values, (np.zeros(feats.indices.size), feats.indices)), shape=(1, w_br.value.shape[1]))\n",
    "    \n",
    "    v_data = np.array([], dtype=np.float32)\n",
    "    v_rows = np.array([], dtype=int)\n",
    "    v_cols = np.array([], dtype=int)\n",
    "    for i in range(0, k_br.value):\n",
    "        v_data = np.append(v_data, b_grad*(lh_factor[i]*feats.values - np.multiply(V_br.value[i][feats.indices], feats.values**2)))\n",
    "        v_rows = np.append(v_rows, [i]*feats.indices.size)\n",
    "        v_cols = np.append(v_cols, feats.indices)\n",
    "    v_grad = csr_matrix((v_data, (v_rows, v_cols)), shape=(k_br.value, V_br.value.shape[1]))\n",
    "    \n",
    "    return ([label, prob], [b_grad, w_grad, v_grad])"
   ]
  },
  {
   "cell_type": "code",
   "execution_count": 14,
   "metadata": {},
   "outputs": [],
   "source": [
    "def logLoss(pair):\n",
    "    \"\"\"parallelize log loss\n",
    "        input: ([label, prob], [b_grad, w_grad, v_grad])\n",
    "    \"\"\"\n",
    "    y = pair[0][1]\n",
    "    \n",
    "    eps = 1.0e-16\n",
    "    if pair[0][1] == 0:\n",
    "        y_hat = eps\n",
    "    elif pair[0][1] == 1:\n",
    "        y_hat = 1-eps\n",
    "    else:\n",
    "        y_hat = pair[0][1]\n",
    "    \n",
    "    return -(y * np.log(y_hat) + (1-y) * np.log(1-y_hat))\n"
   ]
  },
  {
   "cell_type": "code",
   "execution_count": 15,
   "metadata": {},
   "outputs": [],
   "source": [
    "def reduceFct(x, y):\n",
    "    \"\"\"function for summing bias and weight matrices\n",
    "        arguments: ([label, pred], [bias, weight, V matrix])\n",
    "        out:       [sum bias b, sum weight w, sum matrix V]\n",
    "    \"\"\"\n",
    "    b = x[0] + y[0]\n",
    "    w = x[1] + y[1]\n",
    "    V = x[2] + y[2]\n",
    "    return [b, w, V]"
   ]
  },
  {
   "cell_type": "code",
   "execution_count": 16,
   "metadata": {},
   "outputs": [],
   "source": [
    "def iterateSGD(dataRDD, k, bInit, wInit, vInit, nIter = 2, learningRate = 0.1, useReg = False, regParam = 0.001):\n",
    "\n",
    "    k_br = sc.broadcast(k)    \n",
    "    b_br = sc.broadcast(bInit)\n",
    "    w_br = sc.broadcast(wInit)\n",
    "    V_br = sc.broadcast(vInit)\n",
    "\n",
    "    losses = []\n",
    "    N = dataRDD.count()\n",
    "\n",
    "    for i in range(0, nIter):\n",
    "        print('-' * 25 + 'Iteration ' + str(i) + '-' * 25)\n",
    "        predRDD = dataRDD.map(lambda x: predict_grad(x, k_br, b_br, w_br, V_br)).cache()\n",
    "        #print(predRDD.take(1))\n",
    "        \n",
    "        loss = predRDD.map(logLoss).reduce(lambda a,b: a+b)/N + \\\n",
    "                int(useReg)*(regParam/2)*(np.linalg.norm(w_br.value)**2 + np.linalg.norm(V_br.value)**2)\n",
    "        losses.append(loss)\n",
    "        print(f'Current log-loss: {loss}')\n",
    "        \n",
    "        # NEW reduce step\n",
    "        gradRDD = predRDD.values().reduce(reduceFct)\n",
    "        bGrad = gradRDD[0]/N\n",
    "        wGrad = gradRDD[1]/N\n",
    "        vGrad = gradRDD[2]/N\n",
    "\n",
    "        print(f\"Bias: {bGrad}\")\n",
    "        print(f\"wGrad shape: {wGrad.shape}\")\n",
    "        print(f\"vGrad shape: {vGrad.shape}\")\n",
    "\n",
    "        ############## update weights ##############\n",
    "        # first, unpersist broadcasts\n",
    "        b_br.unpersist()\n",
    "        w_br.unpersist()\n",
    "        V_br.unpersist()\n",
    "\n",
    "        # update and re-broadcast\n",
    "        b_br = sc.broadcast(b_br.value - learningRate * bGrad)\n",
    "        w_br = sc.broadcast(w_br.value - learningRate * (wGrad.toarray()+int(useReg)*regParam*np.linalg.norm(w_br.value)))\n",
    "        V_br = sc.broadcast(V_br.value - learningRate * (vGrad.toarray()+int(useReg)*regParam*np.linalg.norm(V_br.value)))\n",
    "        \n",
    "    return losses, b_br, w_br, V_br"
   ]
  },
  {
   "cell_type": "code",
   "execution_count": 17,
   "metadata": {},
   "outputs": [
    {
     "name": "stdout",
     "output_type": "stream",
     "text": [
      "-------------------------Iteration 0-------------------------\n",
      "Current log-loss: 0.6915436158344535\n",
      "Bias: 0.25578878217182943\n",
      "wGrad shape: (1, 15181)\n",
      "vGrad shape: (2, 15181)\n",
      "-------------------------Iteration 1-------------------------\n",
      "Current log-loss: 0.6849142225174336\n",
      "Bias: 0.1846665068816772\n",
      "wGrad shape: (1, 15181)\n",
      "vGrad shape: (2, 15181)\n",
      "-------------------------Iteration 2-------------------------\n",
      "Current log-loss: 0.6679748137085283\n",
      "Bias: 0.13497138831986405\n",
      "wGrad shape: (1, 15181)\n",
      "vGrad shape: (2, 15181)\n",
      "-------------------------Iteration 3-------------------------\n",
      "Current log-loss: 0.6499350762445943\n",
      "Bias: 0.10025063814914095\n",
      "wGrad shape: (1, 15181)\n",
      "vGrad shape: (2, 15181)\n",
      "-------------------------Iteration 4-------------------------\n",
      "Current log-loss: 0.6339167741155716\n",
      "Bias: 0.07561746011291005\n",
      "wGrad shape: (1, 15181)\n",
      "vGrad shape: (2, 15181)\n",
      "-------------------------Iteration 5-------------------------\n",
      "Current log-loss: 0.6206114766967038\n",
      "Bias: 0.05782082657628398\n",
      "wGrad shape: (1, 15181)\n",
      "vGrad shape: (2, 15181)\n",
      "-------------------------Iteration 6-------------------------\n",
      "Current log-loss: 0.6098703716403671\n",
      "Bias: 0.04474778362515247\n",
      "wGrad shape: (1, 15181)\n",
      "vGrad shape: (2, 15181)\n",
      "-------------------------Iteration 7-------------------------\n",
      "Current log-loss: 0.6013086455937103\n",
      "Bias: 0.03500945594004968\n",
      "wGrad shape: (1, 15181)\n",
      "vGrad shape: (2, 15181)\n",
      "-------------------------Iteration 8-------------------------\n",
      "Current log-loss: 0.5945199837048535\n",
      "Bias: 0.027672528478983733\n",
      "wGrad shape: (1, 15181)\n",
      "vGrad shape: (2, 15181)\n",
      "-------------------------Iteration 9-------------------------\n",
      "Current log-loss: 0.5891448081899769\n",
      "Bias: 0.022094575426549086\n",
      "wGrad shape: (1, 15181)\n",
      "vGrad shape: (2, 15181)\n",
      "Performed 10 iterations in 4346.568218231201 seconds\n"
     ]
    }
   ],
   "source": [
    "# initialize weights\n",
    "np.random.seed(24)\n",
    "k = 2\n",
    "b = 0.0\n",
    "w = np.random.normal(0.0, 0.02, (1, num_feats))\n",
    "V = np.random.normal(0.0, 0.02, (k, num_feats))\n",
    "\n",
    "nIter = 10\n",
    "start = time.time()\n",
    "losses, b_br, w_br, V_br = iterateSGD(vectorizedRDD, k, b, w, V, nIter, learningRate = 0.1, useReg = False)\n",
    "print(f'Performed {nIter} iterations in {time.time() - start} seconds')"
   ]
  },
  {
   "cell_type": "code",
   "execution_count": 18,
   "metadata": {},
   "outputs": [
    {
     "data": {
      "image/png": "[encoded data removed]",
      "text/plain": [
       "<Figure size 1152x576 with 1 Axes>"
      ]
     },
     "metadata": {},
     "output_type": "display_data"
    }
   ],
   "source": [
    "fig, ax = plt.subplots(1,1,figsize = (16,8))\n",
    "x = list(range(len(losses)))\n",
    "ax.plot(x, losses, 'k--', label='Training Loss')\n",
    "ax.legend(loc='upper right', fontsize='x-large')\n",
    "plt.xlabel('Number of Iterations')\n",
    "plt.title(\"Log-Loss\")\n",
    "plt.show()"
   ]
  },
  {
   "cell_type": "markdown",
   "metadata": {},
   "source": [
    "## Save Model"
   ]
  },
  {
   "cell_type": "code",
   "execution_count": 19,
   "metadata": {},
   "outputs": [
    {
     "data": {
      "text/plain": [
       "(2, 15181)"
      ]
     },
     "execution_count": 19,
     "metadata": {},
     "output_type": "execute_result"
    }
   ],
   "source": [
    "np.savetxt(\"model/w_weights.txt\", w_br.value, delimiter=',')\n",
    "np.savetxt(\"model/V_weights.txt\", V_br.value, delimiter=',')\n",
    "\n",
    "file = open(\"model/beta.txt\", \"w\")\n",
    "file.write(str(b_br.value))\n",
    "file.close()\n",
    "\n",
    "test_V = np.loadtxt(\"model/V_weights.txt\", delimiter=',')\n",
    "test_V.shape"
   ]
  },
  {
   "cell_type": "markdown",
   "metadata": {},
   "source": [
    "## Evaluation of Holdout Validation Set"
   ]
  },
  {
   "cell_type": "code",
   "execution_count": 20,
   "metadata": {},
   "outputs": [],
   "source": [
    "parsedTestDF = smallTestRDD.map(parseCV).toDF().cache()\n",
    "vectorizedTestDF = cvModel.transform(parsedTestDF)\n",
    "vectorizedTestRDD = vectorizedTestDF.select(['label', 'features']).rdd.cache()"
   ]
  },
  {
   "cell_type": "code",
   "execution_count": 21,
   "metadata": {},
   "outputs": [],
   "source": [
    "tester = vectorizedTestRDD.take(1)[0]\n",
    "tester"
   ]
  },
  {
   "cell_type": "code",
   "execution_count": 22,
   "metadata": {},
   "outputs": [],
   "source": [
    "def predict_prob(pair, k_br, b_br, w_br, V_br):\n",
    "    \"\"\"\n",
    "        Compute the predicted probability AND return the gradient (?)\n",
    "        Args:\n",
    "            pair - records are in (label, sparse feature set) format\n",
    "        Broadcast:\n",
    "            b - bias term (scalar)\n",
    "            w - linear weight vector (array)\n",
    "            k - number of factors (def=2)\n",
    "            V - factor matrix of size (d dimensions, k=2 factors)\n",
    "        Returns:\n",
    "            predRDD - pair of (label, predicted probability)\n",
    "    \"\"\"\n",
    "    \n",
    "    label = pair[0]\n",
    "    feats = pair[1]\n",
    "    \n",
    "    # start with linear weight dot product\n",
    "    linear_sum = np.dot(w_br.value[0][feats.indices], feats.values)\n",
    "\n",
    "    # factor matrix interaction sum\n",
    "    factor_sum = 0.0\n",
    "    lh_factor = [0.0]*k_br.value\n",
    "    rh_factor = [0.0]*k_br.value\n",
    "    \n",
    "    for f in range(0, k_br.value):\n",
    "        lh_factor[f] = np.dot(V_br.value[f][feats.indices], feats.values)\n",
    "        rh_factor[f] = np.dot(V_br.value[f][feats.indices]**2, feats.values**2)\n",
    "        factor_sum += (lh_factor[f]**2 - rh_factor[f])\n",
    "    factor_sum = 0.5 * factor_sum\n",
    "    \n",
    "    pre_prob = b_br.value + linear_sum + factor_sum\n",
    "    \n",
    "    prob = 1.0 / (1 + np.exp(-pre_prob))  #logit transformation\n",
    "    \n",
    "    return (label, prob)"
   ]
  },
  {
   "cell_type": "code",
   "execution_count": 23,
   "metadata": {},
   "outputs": [],
   "source": [
    "def testLoss(pair):\n",
    "    \"\"\"parallelize log loss\n",
    "        input: (label, prob)\n",
    "    \"\"\"\n",
    "    y = pair[0]\n",
    "    \n",
    "    eps = 1.0e-16\n",
    "    if pair[1] == 0:\n",
    "        y_hat = eps\n",
    "    elif pair[1] == 1:\n",
    "        y_hat = 1-eps\n",
    "    else:\n",
    "        y_hat = pair[1]\n",
    "    \n",
    "    return -(y * np.log(y_hat) + (1-y) * np.log(1-y_hat))"
   ]
  },
  {
   "cell_type": "code",
   "execution_count": 24,
   "metadata": {},
   "outputs": [
    {
     "name": "stdout",
     "output_type": "stream",
     "text": [
      "Log-loss on the hold-out test set is: 0.5605384878008479\n"
     ]
    }
   ],
   "source": [
    "k_br = sc.broadcast(k)\n",
    "\n",
    "testLoss = vectorizedTestRDD.map(lambda x: predict_prob(x, k_br, b_br, w_br, V_br)) \\\n",
    "                            .map(testLoss).mean()\n",
    "\n",
    "print(\"Log-loss on the hold-out test set is:\", testLoss)"
   ]
  },
  {
   "cell_type": "markdown",
   "metadata": {},
   "source": [
    "## Score Unlabeled Test Data (IN PROGRESS)"
   ]
  },
  {
   "cell_type": "code",
   "execution_count": 25,
   "metadata": {},
   "outputs": [
    {
     "data": {
      "text/plain": [
       "PythonRDD[87] at RDD at PythonRDD.scala:49"
      ]
     },
     "execution_count": 25,
     "metadata": {},
     "output_type": "execute_result"
    }
   ],
   "source": [
    "unlabeledRDD = sc.textFile('data/test.txt')\n",
    "largeUnlabeledRDD, smallUnlabeledRDD = unlabeledRDD.randomSplit([0.999, 0.001], seed = 1)\n",
    "smallUnlabeledRDD.cache()"
   ]
  },
  {
   "cell_type": "code",
   "execution_count": 29,
   "metadata": {},
   "outputs": [
    {
     "name": "stdout",
     "output_type": "stream",
     "text": [
      "+-----+--------------------+--------------------+\n",
      "|label|                 raw|            features|\n",
      "+-----+--------------------+--------------------+\n",
      "|    0|[n0_<10, n1_<100,...|(15181,[0,1,2,3,4...|\n",
      "|    0|[n0_NA, n1_>100, ...|(15181,[0,3,4,7,9...|\n",
      "|    0|[n0_0, n1_<100, n...|(15181,[0,1,2,3,4...|\n",
      "|    0|[n0_NA, n1_>100, ...|(15181,[1,2,3,6,7...|\n",
      "|    0|[n0_NA, n1_<100, ...|(15181,[0,1,2,3,4...|\n",
      "|    0|[n0_0, n1_<100, n...|(15181,[0,3,4,5,8...|\n",
      "|    0|[n0_<10, n1_<100,...|(15181,[0,2,4,5,8...|\n",
      "|    0|[n0_NA, n1_<100, ...|(15181,[0,1,2,3,4...|\n",
      "|    0|[n0_0, n1_<100, n...|(15181,[0,2,4,5,8...|\n",
      "|    0|[n0_0, n1_>100, n...|(15181,[0,1,2,3,4...|\n",
      "|    0|[n0_0, n1_<100, n...|(15181,[0,1,2,3,4...|\n",
      "|    0|[n0_NA, n1_<100, ...|(15181,[0,1,2,4,5...|\n",
      "|    0|[n0_0, n1_>100, n...|(15181,[0,2,6,8,9...|\n",
      "|    0|[n0_NA, n1_>100, ...|(15181,[1,2,3,7,9...|\n",
      "|    0|[n0_0, n1_<100, n...|(15181,[0,1,2,3,4...|\n",
      "|    0|[n0_NA, n1_<100, ...|(15181,[0,1,5,6,9...|\n",
      "|    0|[n0_NA, n1_<100, ...|(15181,[0,1,2,3,4...|\n",
      "|    0|[n0_<25, n1_<100,...|(15181,[0,1,2,3,4...|\n",
      "|    0|[n0_NA, n1_<100, ...|(15181,[1,2,5,6,7...|\n",
      "|    0|[n0_NA, n1_<100, ...|(15181,[0,1,2,5,6...|\n",
      "+-----+--------------------+--------------------+\n",
      "only showing top 20 rows\n",
      "\n"
     ]
    }
   ],
   "source": [
    "parsedUnlabeledDF = smallUnlabeledRDD.map(lambda x: \"0\\t\"+x).map(parseCV).toDF().cache()\n",
    "vectorUnlabeledDF = cvModel.transform(parsedUnlabeledDF)\n",
    "vectorUnlabeledDF.show(truncate=True)"
   ]
  },
  {
   "cell_type": "code",
   "execution_count": 31,
   "metadata": {},
   "outputs": [],
   "source": [
    "vectorUnlabeledRDD = vectorUnlabeledDF.select(['raw','features']).rdd.cache()"
   ]
  },
  {
   "cell_type": "code",
   "execution_count": 32,
   "metadata": {},
   "outputs": [],
   "source": [
    "unlabeledPred = vectorUnlabeledRDD.map(lambda x: predict_prob(x, k_br, b_br, w_br, V_br)).cache()"
   ]
  },
  {
   "cell_type": "code",
   "execution_count": 34,
   "metadata": {},
   "outputs": [
    {
     "data": {
      "text/plain": [
       "[(['n0_<10',\n",
       "   'n1_<100',\n",
       "   'n2_<100',\n",
       "   'n3_<10',\n",
       "   'n4_<10k',\n",
       "   'n5_<100',\n",
       "   'n6_<10',\n",
       "   'n7_<10',\n",
       "   'n8_<100',\n",
       "   'n9_1',\n",
       "   'n10_<3',\n",
       "   'n11_NA',\n",
       "   'n12_<5',\n",
       "   'c0_68fd1e64',\n",
       "   'c1_58e67aaf',\n",
       "   'c2_460e75a5',\n",
       "   'c3_a46ff3b6',\n",
       "   'c4_4cf72387',\n",
       "   'c5_7e0ccccf',\n",
       "   'c6_9ff9bbde',\n",
       "   'c7_5b392875',\n",
       "   'c8_a73ee510',\n",
       "   'c9_07ae0d24',\n",
       "   'c10_f89fe102',\n",
       "   'c11_470f4c9e',\n",
       "   'c12_83e6ca2e',\n",
       "   'c13_07d13a8f',\n",
       "   'c14_10935a85',\n",
       "   'c15_e7b3adb2',\n",
       "   'c16_07c540c4',\n",
       "   'c17_c21c3e4c',\n",
       "   'c18_8733cf72',\n",
       "   'c19_a458ea53',\n",
       "   'c20_821b47b2',\n",
       "   'c21_NA',\n",
       "   'c22_423fab69',\n",
       "   'c23_3fdb382b',\n",
       "   'c24_e8b83407',\n",
       "   'c25_49d68486'],\n",
       "  0.2790232633837512)]"
      ]
     },
     "execution_count": 34,
     "metadata": {},
     "output_type": "execute_result"
    }
   ],
   "source": [
    "unlabeledPred.take(1)"
   ]
  },
  {
   "cell_type": "code",
   "execution_count": 38,
   "metadata": {},
   "outputs": [],
   "source": [
    "unlabeledPred.coalesce(1,True).saveAsTextFile(\"data/test_predictions\")"
   ]
  }
 ],
 "metadata": {
  "kernelspec": {
   "display_name": "Python 3",
   "language": "python",
   "name": "python3"
  },
  "language_info": {
   "codemirror_mode": {
    "name": "ipython",
    "version": 3
   },
   "file_extension": ".py",
   "mimetype": "text/x-python",
   "name": "python",
   "nbconvert_exporter": "python",
   "pygments_lexer": "ipython3",
   "version": "3.6.6"
  },
  "toc": {
   "colors": {
    "hover_highlight": "#DAA520",
    "running_highlight": "#FF0000",
    "selected_highlight": "#FFD700"
   },
   "moveMenuLeft": true,
   "nav_menu": {
    "height": "441px",
    "width": "252px"
   },
   "navigate_menu": true,
   "number_sections": true,
   "sideBar": true,
   "threshold": 4,
   "toc_cell": true,
   "toc_position": {
    "height": "827px",
    "left": "0px",
    "right": "1125px",
    "top": "107px",
    "width": "428px"
   },
   "toc_section_display": "block",
   "toc_window_display": true
  }
 },
 "nbformat": 4,
 "nbformat_minor": 2
}
