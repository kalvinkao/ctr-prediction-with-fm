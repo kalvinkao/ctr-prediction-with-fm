{
 "cells": [
  {
   "cell_type": "markdown",
   "metadata": {},
   "source": [
    "# W261 Final Project ETL for Development Sample"
   ]
  },
  {
   "cell_type": "markdown",
   "metadata": {},
   "source": [
    "### Notebook Set-Up"
   ]
  },
  {
   "cell_type": "code",
   "execution_count": 26,
   "metadata": {},
   "outputs": [],
   "source": [
    "# imports\n",
    "#import time\n",
    "import numpy as np\n",
    "#import pandas as pd"
   ]
  },
  {
   "cell_type": "code",
   "execution_count": 27,
   "metadata": {},
   "outputs": [],
   "source": [
    "#%reload_ext autoreload\n",
    "#%autoreload 2"
   ]
  },
  {
   "cell_type": "code",
   "execution_count": 28,
   "metadata": {},
   "outputs": [],
   "source": [
    "# store path to notebook\n",
    "#PWD = !pwd\n",
    "#PWD = PWD[0]"
   ]
  },
  {
   "cell_type": "code",
   "execution_count": 29,
   "metadata": {},
   "outputs": [],
   "source": [
    "# start Spark Session\n",
    "from pyspark.sql import SparkSession\n",
    "app_name = \"w261FinalProject\"\n",
    "master = \"local[*]\"\n",
    "spark = SparkSession\\\n",
    "        .builder\\\n",
    "        .appName(app_name)\\\n",
    "        .master(master)\\\n",
    "        .getOrCreate()\n",
    "sc = spark.sparkContext"
   ]
  },
  {
   "cell_type": "markdown",
   "metadata": {},
   "source": [
    "__`REMINDER:`__ If you are running this notebook on the course docker container, you can monitor the progress of your jobs using the Spark UI at: http://localhost:4040/jobs/"
   ]
  },
  {
   "cell_type": "markdown",
   "metadata": {},
   "source": [
    "## Load Data"
   ]
  },
  {
   "cell_type": "code",
   "execution_count": 30,
   "metadata": {},
   "outputs": [],
   "source": [
    "original_trainRDD = sc.textFile('data/train.txt')\n",
    "original_testRDD = sc.textFile('data/test.txt')"
   ]
  },
  {
   "cell_type": "markdown",
   "metadata": {},
   "source": [
    "## Parse Training Data"
   ]
  },
  {
   "cell_type": "code",
   "execution_count": 31,
   "metadata": {},
   "outputs": [],
   "source": [
    "def parse(line):\n",
    "    \"\"\"\n",
    "    Map record_csv_string --> (tuple,of,fields)\n",
    "    \"\"\"\n",
    "    raw_values = line.split('\\t')\n",
    "    label = [int(raw_values[0])]\n",
    "    numerical_values = list(pd.Series(raw_values[1:14]).apply(pd.to_numeric))\n",
    "    categorical_values = list([str(idx)+\"_MISSINGVALUE\" if str(value)==\"\" else str(idx)+\"_\"+str(value) for idx,value in enumerate(raw_values[14:])])\n",
    "    return(numerical_values + categorical_values + label)"
   ]
  },
  {
   "cell_type": "markdown",
   "metadata": {},
   "source": [
    "## Transformation"
   ]
  },
  {
   "cell_type": "markdown",
   "metadata": {},
   "source": [
    "### Sample"
   ]
  },
  {
   "cell_type": "code",
   "execution_count": 32,
   "metadata": {},
   "outputs": [
    {
     "data": {
      "text/plain": [
       "[[nan,\n",
       "  4.0,\n",
       "  50.0,\n",
       "  18.0,\n",
       "  3339.0,\n",
       "  20.0,\n",
       "  26.0,\n",
       "  17.0,\n",
       "  133.0,\n",
       "  nan,\n",
       "  2.0,\n",
       "  nan,\n",
       "  18.0,\n",
       "  '0_09ca0b81',\n",
       "  '1_09e68b86',\n",
       "  '2_86c4b829',\n",
       "  '3_e3d0459f',\n",
       "  '4_25c83c98',\n",
       "  '5_MISSINGVALUE',\n",
       "  '6_7227c706',\n",
       "  '7_0b153874',\n",
       "  '8_a73ee510',\n",
       "  '9_305a0646',\n",
       "  '10_9625b211',\n",
       "  '11_997a695a',\n",
       "  '12_dccbd94b',\n",
       "  '13_07d13a8f',\n",
       "  '14_36721ddc',\n",
       "  '15_c0b906bb',\n",
       "  '16_e5ba7672',\n",
       "  '17_5aed7436',\n",
       "  '18_21ddcdc9',\n",
       "  '19_a458ea53',\n",
       "  '20_0cbbcc92',\n",
       "  '21_MISSINGVALUE',\n",
       "  '22_32c7478e',\n",
       "  '23_0174dd24',\n",
       "  '24_3d2bedd7',\n",
       "  '25_d8ecbc17',\n",
       "  0]]"
      ]
     },
     "execution_count": 32,
     "metadata": {},
     "output_type": "execute_result"
    }
   ],
   "source": [
    "#change the seed for a different sample\n",
    "sampleRDD1, sampleRDD2 = original_trainRDD.randomSplit([0.9999,0.0001], seed = 1)\n",
    "smallSampleRDDCached = sampleRDD2.map(parse).cache()\n",
    "#smallSampleRDDCached.take(1)"
   ]
  },
  {
   "cell_type": "code",
   "execution_count": 33,
   "metadata": {},
   "outputs": [
    {
     "name": "stdout",
     "output_type": "stream",
     "text": [
      "This sample contains 4478 rows.\n"
     ]
    }
   ],
   "source": [
    "ncol = len(smallSampleRDDCached.first())\n",
    "nrow = smallSampleRDDCached.count()\n",
    "print(\"This sample contains\", str(nrow), \"rows.\")"
   ]
  },
  {
   "cell_type": "code",
   "execution_count": 34,
   "metadata": {},
   "outputs": [
    {
     "name": "stdout",
     "output_type": "stream",
     "text": [
      "This sample contains 25676 distinct values.\n"
     ]
    }
   ],
   "source": [
    "distinctValsRDD = smallSampleRDDCached.flatMap(lambda line: line[13:-1]).distinct()\n",
    "print(\"This sample contains\", str(distinctValsRDD.count()), \"distinct values.\")"
   ]
  },
  {
   "cell_type": "markdown",
   "metadata": {},
   "source": [
    "### Get and Broadcast All Variable Names"
   ]
  },
  {
   "cell_type": "code",
   "execution_count": 35,
   "metadata": {},
   "outputs": [],
   "source": [
    "#the variable names for numerical features, also defined below\n",
    "numerical_names = [\"n00\", \"n01\", \"n02\", \"n03\", \"n04\", \"n05\", \"n06\", \"n07\", \"n08\", \"n09\", \"n10\", \"n11\", \"n12\"]"
   ]
  },
  {
   "cell_type": "code",
   "execution_count": 36,
   "metadata": {},
   "outputs": [
    {
     "name": "stdout",
     "output_type": "stream",
     "text": [
      "There are 25689 variables in this sample.\n"
     ]
    }
   ],
   "source": [
    "distinctNames = distinctValsRDD.collect()\n",
    "distinctNames = numerical_names + distinctNames\n",
    "distinctNamesb = sc.broadcast(distinctNames)\n",
    "print(\"There are\", str(len(distinctNames)), \"variables in this sample.\")"
   ]
  },
  {
   "cell_type": "code",
   "execution_count": 37,
   "metadata": {},
   "outputs": [],
   "source": [
    "# part d - helper function to normalize the data (FILL IN THE MISSING CODE BELOW)\n",
    "def normalize(dataRDD):\n",
    "    \"\"\"\n",
    "    Scale and center data for each feature\n",
    "    1. standardize to standard normal distribution\n",
    "    2. add a constant, 'translation_after_standardization', \n",
    "       to ensure all values are positive (needed for subsequent log transform)\n",
    "    \n",
    "    Args:\n",
    "        dataRDD - records are a list of features (last position is label)\n",
    "    Returns:\n",
    "        normedRDD - records have same format as input rdd\n",
    "    \"\"\"\n",
    "    translation_after_standardization = 5\n",
    "\n",
    "    numericalFeatures = dataRDD.map(lambda x: list(x[:13])).cache()\n",
    "\n",
    "    nonNanCounts = numericalFeatures.map(lambda line: 1.0*~np.isnan(line)).reduce(lambda x,y: np.add(x,y))\n",
    "    nonNanCountsb = sc.broadcast(nonNanCounts)\n",
    "    \n",
    "    featureMeans = numericalFeatures.reduce(lambda x,y: np.nansum(np.dstack((x, y)), 2))\n",
    "    featureMeans = np.divide(featureMeans,nonNanCountsb.value)\n",
    "    featureMeansb = sc.broadcast(featureMeans)\n",
    "    \n",
    "    featureStdev = numericalFeatures.map(lambda line: np.square(np.subtract(line, featureMeansb.value))) \\\n",
    "                                    .reduce(lambda x,y: np.nansum(np.dstack((x, y)), 2))\n",
    "    featureStdev = np.sqrt(featureStdev/nonNanCountsb.value)\n",
    "    featureStdevb = sc.broadcast(featureStdev)\n",
    "    \n",
    "    normedRDD = dataRDD.map(lambda x: np.add(np.divide(np.subtract(x[:13],featureMeansb.value),featureStdevb.value), translation_after_standardization).tolist()[0] + list(x[13:]))\n",
    "    \n",
    "    return normedRDD"
   ]
  },
  {
   "cell_type": "code",
   "execution_count": 38,
   "metadata": {},
   "outputs": [],
   "source": [
    "#cache normalized data\n",
    "normedRDD = normalize(smallSampleRDDCached).cache()"
   ]
  },
  {
   "cell_type": "markdown",
   "metadata": {},
   "source": [
    "### Log Transform"
   ]
  },
  {
   "cell_type": "code",
   "execution_count": 39,
   "metadata": {},
   "outputs": [],
   "source": [
    "logRDD = normedRDD.map(lambda x: np.log(x[:13]).tolist() + list(x[13:]))"
   ]
  },
  {
   "cell_type": "markdown",
   "metadata": {},
   "source": [
    "### One-Hot Encoding"
   ]
  },
  {
   "cell_type": "code",
   "execution_count": 40,
   "metadata": {},
   "outputs": [],
   "source": [
    "#these lists are needed to create the list representation of features\n",
    "numerical_names = [\"n00\", \"n01\", \"n02\", \"n03\", \"n04\", \"n05\", \"n06\", \"n07\", \"n08\", \"n09\", \"n10\", \"n11\", \"n12\"]\n",
    "category_vals = np.ones(24).tolist()"
   ]
  },
  {
   "cell_type": "code",
   "execution_count": 41,
   "metadata": {},
   "outputs": [],
   "source": [
    "def convert_to_list_form(line):\n",
    "    \"\"\"\n",
    "    Converts the list of variables to a key-value pair format\n",
    "    \n",
    "    Args:\n",
    "        line - one record in the form of a list\n",
    "        --positions 1-13 are the numerical features\n",
    "        --the next 26 positions are the categorical features\n",
    "        --the last position is label)\n",
    "    Returns:\n",
    "        pair RDD\n",
    "        --key: label\n",
    "        --value: list representation of the feature values (dictionary)\n",
    "    \"\"\"\n",
    "    numbers = line[:13]\n",
    "    categories = line[13:-1]\n",
    "    label = line[-1]\n",
    "    dict1 = dict(zip(numerical_names, numbers))\n",
    "    dict2 = dict(zip(categories, category_vals))\n",
    "    return (label, {**dict1, **dict2})"
   ]
  },
  {
   "cell_type": "code",
   "execution_count": 42,
   "metadata": {},
   "outputs": [
    {
     "data": {
      "text/plain": [
       "(0,\n",
       " {'n00': nan,\n",
       "  'n01': 1.5546416330280177,\n",
       "  'n02': 1.614858026325336,\n",
       "  'n03': 1.8324388135638439,\n",
       "  'n04': 1.5658974261919119,\n",
       "  'n05': 1.5447893046000354,\n",
       "  'n06': 1.6455071185060295,\n",
       "  'n07': 1.6722403253403968,\n",
       "  'n08': 1.6258544971242836,\n",
       "  'n09': nan,\n",
       "  'n10': 1.5791945292276104,\n",
       "  'n11': nan,\n",
       "  'n12': 1.7750904691093639,\n",
       "  '0_09ca0b81': 1.0,\n",
       "  '1_09e68b86': 1.0,\n",
       "  '2_86c4b829': 1.0,\n",
       "  '3_e3d0459f': 1.0,\n",
       "  '4_25c83c98': 1.0,\n",
       "  '5_MISSINGVALUE': 1.0,\n",
       "  '6_7227c706': 1.0,\n",
       "  '7_0b153874': 1.0,\n",
       "  '8_a73ee510': 1.0,\n",
       "  '9_305a0646': 1.0,\n",
       "  '10_9625b211': 1.0,\n",
       "  '11_997a695a': 1.0,\n",
       "  '12_dccbd94b': 1.0,\n",
       "  '13_07d13a8f': 1.0,\n",
       "  '14_36721ddc': 1.0,\n",
       "  '15_c0b906bb': 1.0,\n",
       "  '16_e5ba7672': 1.0,\n",
       "  '17_5aed7436': 1.0,\n",
       "  '18_21ddcdc9': 1.0,\n",
       "  '19_a458ea53': 1.0,\n",
       "  '20_0cbbcc92': 1.0,\n",
       "  '21_MISSINGVALUE': 1.0,\n",
       "  '22_32c7478e': 1.0,\n",
       "  '23_0174dd24': 1.0})"
      ]
     },
     "execution_count": 42,
     "metadata": {},
     "output_type": "execute_result"
    }
   ],
   "source": [
    "final_data_rdd = logRDD.map(convert_to_list_form)\n",
    "final_data_rdd.first()"
   ]
  },
  {
   "cell_type": "markdown",
   "metadata": {},
   "source": [
    "### At this point, the sample of training data is in 'final_data_rdd' and the list of variable names has been broadcasted as 'distinctNamesb'"
   ]
  }
 ],
 "metadata": {
  "kernelspec": {
   "display_name": "Python 3",
   "language": "python",
   "name": "python3"
  },
  "language_info": {
   "codemirror_mode": {
    "name": "ipython",
    "version": 3
   },
   "file_extension": ".py",
   "mimetype": "text/x-python",
   "name": "python",
   "nbconvert_exporter": "python",
   "pygments_lexer": "ipython3",
   "version": "3.6.6"
  },
  "toc": {
   "colors": {
    "hover_highlight": "#DAA520",
    "running_highlight": "#FF0000",
    "selected_highlight": "#FFD700"
   },
   "moveMenuLeft": true,
   "nav_menu": {
    "height": "441px",
    "width": "252px"
   },
   "navigate_menu": true,
   "number_sections": true,
   "sideBar": true,
   "threshold": 4,
   "toc_cell": true,
   "toc_position": {
    "height": "827px",
    "left": "0px",
    "right": "1125px",
    "top": "107px",
    "width": "428px"
   },
   "toc_section_display": "block",
   "toc_window_display": true
  }
 },
 "nbformat": 4,
 "nbformat_minor": 2
}
